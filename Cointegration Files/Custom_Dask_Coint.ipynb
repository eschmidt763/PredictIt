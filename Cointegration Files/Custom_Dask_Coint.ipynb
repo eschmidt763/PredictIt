{
 "cells": [
  {
   "cell_type": "code",
   "execution_count": 8,
   "metadata": {},
   "outputs": [],
   "source": [
    "import glob as gl\n",
    "import pandas as pd\n",
    "import numpy as np\n",
    "import time\n",
    "import dask\n",
    "import math as math\n",
    "import datetime as dt"
   ]
  },
  {
   "cell_type": "code",
   "execution_count": 9,
   "metadata": {},
   "outputs": [],
   "source": [
    "csvlist = gl.glob(\"*.csv\")"
   ]
  },
  {
   "cell_type": "code",
   "execution_count": 10,
   "metadata": {},
   "outputs": [
    {
     "data": {
      "text/plain": [
       "1744"
      ]
     },
     "execution_count": 10,
     "metadata": {},
     "output_type": "execute_result"
    }
   ],
   "source": [
    "len(csvlist)"
   ]
  },
  {
   "cell_type": "code",
   "execution_count": 11,
   "metadata": {},
   "outputs": [],
   "source": [
    "def listshift(listofcsvs):\n",
    "    newcsvlist = [listofcsvs[-1]] + listofcsvs[:-1]\n",
    "    return newcsvlist"
   ]
  },
  {
   "cell_type": "code",
   "execution_count": 12,
   "metadata": {},
   "outputs": [],
   "source": [
    "csvlist2 = listshift(csvlist)"
   ]
  },
  {
   "cell_type": "code",
   "execution_count": 13,
   "metadata": {},
   "outputs": [],
   "source": [
    "csvtestlist = csvlist[0:50]\n",
    "csvtestlist2 = csvlist2[0:50]"
   ]
  },
  {
   "cell_type": "code",
   "execution_count": 14,
   "metadata": {},
   "outputs": [
    {
     "data": {
      "text/html": [
       "<table style=\"border: 2px solid white;\">\n",
       "<tr>\n",
       "<td style=\"vertical-align: top; border: 0px solid white\">\n",
       "<h3 style=\"text-align: left;\">Client</h3>\n",
       "<ul style=\"text-align: left; list-style: none; margin: 0; padding: 0;\">\n",
       "  <li><b>Scheduler: </b>tcp://127.0.0.1:62967</li>\n",
       "  <li><b>Dashboard: </b><a href='http://127.0.0.1:8787/status' target='_blank'>http://127.0.0.1:8787/status</a>\n",
       "</ul>\n",
       "</td>\n",
       "<td style=\"vertical-align: top; border: 0px solid white\">\n",
       "<h3 style=\"text-align: left;\">Cluster</h3>\n",
       "<ul style=\"text-align: left; list-style:none; margin: 0; padding: 0;\">\n",
       "  <li><b>Workers: </b>1</li>\n",
       "  <li><b>Cores: </b>8</li>\n",
       "  <li><b>Memory: </b>17.18 GB</li>\n",
       "</ul>\n",
       "</td>\n",
       "</tr>\n",
       "</table>"
      ],
      "text/plain": [
       "<Client: scheduler='tcp://127.0.0.1:62967' processes=1 cores=8>"
      ]
     },
     "execution_count": 14,
     "metadata": {},
     "output_type": "execute_result"
    }
   ],
   "source": [
    "from dask.distributed import Client, progress\n",
    "client = Client(threads_per_worker=8, n_workers=1)\n",
    "client"
   ]
  },
  {
   "cell_type": "code",
   "execution_count": 15,
   "metadata": {},
   "outputs": [],
   "source": [
    "def cointtest(stock1, stock2, lagnumber, optionals=0):\n",
    "    csv1 = pd.read_csv(stock1)\n",
    "    price1_list = csv1['contract_best_buy_yes_price'].to_numpy()\n",
    "    price1 = price1_list[0:-lagnumber]\n",
    "    csv2 = pd.read_csv(stock2)\n",
    "    price2_list = csv2['contract_best_buy_yes_price'].to_numpy()\n",
    "    avg_list = []\n",
    "    m_list = []\n",
    "    c_list = []\n",
    "    ratiolistlist = []\n",
    "    goodlist = []\n",
    "    if len(price1_list) == len(price2_list):\n",
    "        try:\n",
    "            for x in np.arange(lagnumber):\n",
    "                price2 = price2_list[x:(-lagnumber+x)]\n",
    "                #print(price2)\n",
    "                ratiolist = price1/price2\n",
    "                avg = np.mean(ratiolist)\n",
    "                x_axis = np.arange(len(ratiolist))/len(ratiolist)\n",
    "                A = np.vstack([x_axis, np.ones(len(x_axis))]).T\n",
    "                #print(avg)\n",
    "                m, c = np.linalg.lstsq(A, ratiolist, rcond=None)[0]\n",
    "                avg_list.append(avg)\n",
    "                m_list.append(m)\n",
    "                c_list.append(c)\n",
    "                ratiolistlist.append(ratiolist)\n",
    "                if m < 0.1 and m > -0.1:\n",
    "                    goodlist.append([m, lagnumber])\n",
    "                else:\n",
    "                    None\n",
    "        except:\n",
    "            m_list.append(1)\n",
    "    else:\n",
    "        m_list.append(1)\n",
    "    avg_slope = np.mean(m_list)\n",
    "    del csv1\n",
    "    del csv2\n",
    "    if optionals == 1:\n",
    "        liststuff1 = [stock1, stock2, goodlist, avg_slope, avg_list, m_list, c_list, ratiolistlist]\n",
    "        return liststuff1\n",
    "    else:\n",
    "        del price1_list\n",
    "        del price1\n",
    "        del price2_list\n",
    "        del avg_list\n",
    "        del m_list\n",
    "        del c_list\n",
    "        del ratiolistlist\n",
    "        liststuff2 = [stock1, stock2, goodlist, avg_slope]\n",
    "        return liststuff2"
   ]
  },
  {
   "cell_type": "code",
   "execution_count": 16,
   "metadata": {},
   "outputs": [],
   "source": [
    "def large_coint_test(stocklist1, stocklist2, lagnumber):\n",
    "    goodstocklist = []\n",
    "    badstocklist = []\n",
    "    allstocklist = []\n",
    "    dask_coint = dask.delayed(cointtest)\n",
    "    dask_tasks_list = []\n",
    "    for stock1, stock2 in zip(stocklist1, stocklist2):\n",
    "        if stock1 == stock2:\n",
    "            printphrase = str(stock1) + \" and \"+str(stock2)+\" are the same stock, cannot do calculations!\"\n",
    "            allstocklist.append([printphrase])\n",
    "            badstocklist.append([printphrase])\n",
    "        else:\n",
    "            task = dask_coint(stock1, stock2, lagnumber)\n",
    "            dask_tasks_list.append(task)\n",
    "    dask_persist_list = dask.persist(*dask_tasks_list)\n",
    "    computations = dask.compute(dask_persist_list)\n",
    "    return computations           "
   ]
  },
  {
   "cell_type": "code",
   "execution_count": 17,
   "metadata": {},
   "outputs": [],
   "source": [
    "def tasktime(list1, list2, lagnumber):\n",
    "    starttime = dt.datetime.now()\n",
    "    taskfile = large_coint_test(list1, list2, lagnumber)\n",
    "    endtime = dt.datetime.now()\n",
    "    time_elapsed = (endtime-starttime)\n",
    "    return taskfile, time_elapsed"
   ]
  },
  {
   "cell_type": "code",
   "execution_count": 22,
   "metadata": {},
   "outputs": [],
   "source": [
    "wow, timeer = tasktime(csvlist, csvlist2, 120)"
   ]
  },
  {
   "cell_type": "code",
   "execution_count": 23,
   "metadata": {},
   "outputs": [
    {
     "name": "stdout",
     "output_type": "stream",
     "text": [
      "0:02:41.018643\n"
     ]
    }
   ],
   "source": [
    "print(timeer)"
   ]
  },
  {
   "cell_type": "code",
   "execution_count": 26,
   "metadata": {},
   "outputs": [
    {
     "name": "stdout",
     "output_type": "stream",
     "text": [
      "Who will win the 2020 Pennsylvania Democratic primary?Tom Steyer.csv Who will win the 2020 Minnesota Democratic primary?Andrew Yang.csv [0.05393159947327541, 120]\n",
      "Who will win the 2020 Utah Democratic primary?Julián Castro.csv Will Howard Schultz run for president in 2020?Will Howard Schultz run for president in 2020?.csv [-0.006840479771887559, 120]\n",
      "Who will win the 2020 Connecticut Democratic primary?Andrew Yang.csv Who will win the 2020 Louisiana Democratic primary?Joe Biden.csv [-0.03298491638442237, 120]\n",
      "Who will win the 2020 Virginia Democratic primary?Cory Booker.csv Who will win the 2020 Connecticut Democratic primary?Andrew Yang.csv [0.014601102695537544, 120]\n",
      "Who will win the 2020 Oklahoma Democratic primary?Tom Steyer.csv Who will win the 2020 Virginia Democratic primary?Cory Booker.csv [-4.264120184082122e-15, 120]\n",
      "What will Andrew Yang's RCP average support be at the end of November?1.9% or lower.csv How many Democrats will have dropped out by Nov. 30?9.csv [0.020224556729705523, 120]\n",
      "Who will win the 2020 Iowa Democratic caucuses?Beto O'Rourke.csv Who will win the 2020 Louisiana Democratic primary?Michael Bennet.csv [-4.264120184082122e-15, 120]\n",
      "Who will win the 2020 Florida Democratic primary?Cory Booker.csv Who will win the 2020 Alabama Democratic primary?Pete Buttigieg.csv [0.05788272204382375, 120]\n",
      "Who will win the 2020 Rhode Island Democratic primary?Tom Steyer.csv Who will win the 2020 Florida Democratic primary?Cory Booker.csv [-4.264120184082122e-15, 120]\n",
      "Who will win the 2020 Washington Democratic primary?Tulsi Gabbard.csv Will the 2020 Democratic nominee for president be 70+ on Election Day?Will the 2020 Democratic nominee for president be 70+ on Election Day?.csv [-0.038697466109902615, 120]\n",
      "Who will win the 2020 Idaho Democratic primary?Kamala Harris.csv Who will win the 2020 Democratic vice presidential nomination?Stacey Abrams.csv [-0.003756491108311046, 120]\n",
      "Who will win the 2020 Delaware Democratic primary?Pete Buttigieg.csv Which party will win the U.S. Senate special election in Arizona in 2020?Republican.csv [-0.02647240581731472, 120]\n",
      "Who will win the 2020 Alaska Democratic primary?Michael Bennet.csv Which party will win New Hampshire in the 2020 presidential election?Democratic.csv [0.0007789994085312933, 120]\n",
      "Who will win the 2020 Missouri Democratic primary?Tom Steyer.csv Who will win the 2020 U.S. presidential election?Elizabeth Warren.csv [0.0674747944850991, 120]\n",
      "Who will win the 2020 Minnesota Democratic primary?Hillary Clinton.csv Will Carrie Lam be Hong Kong CEO on December 31?Will Carrie Lam be Hong Kong CEO on December 31?.csv [0.0004529203170689293, 120]\n",
      "Who will win the 2020 Democratic presidential nomination?Marianne Williamson.csv Who will be Trump's next Supreme Court nominee?Thomas Hardiman.csv [0.0026935654143354524, 120]\n",
      "Who will win the 2020 Wisconsin Democratic primary?Tom Steyer.csv Who will win the 2020 Democratic presidential nomination?Marianne Williamson.csv [-4.264120184082122e-15, 120]\n",
      "Who will win the 2020 Delaware Democratic primary?Kamala Harris.csv Who will win the 2020 Iowa Democratic caucuses?Bernie Sanders.csv [-0.028505228213874474, 120]\n",
      "Who will win the 2020 Delaware Democratic primary?Cory Booker.csv Who will be Trump's next Supreme Court nominee?Robert Young.csv [-4.264120184082122e-15, 120]\n",
      "Which party will win the 2020 U.S. presidential election?Green.csv Who will win the 2020 Michigan Democratic primary?Joe Biden.csv [-0.011867891828369639, 120]\n",
      "Who will win the 2020 Alaska Democratic primary?Hillary Clinton.csv Which party will win Pennsylvania in the 2020 presidential election?Republican.csv [0.015843979390906135, 120]\n",
      "Who will win the 2020 Vermont Democratic primary?Julián Castro.csv Who will win the 2020 Arizona Democratic primary?Julián Castro.csv [-4.264120184082122e-15, 120]\n",
      "Who will win the 2020 Missouri Democratic primary?Beto O'Rourke.csv Who will win the 2020 Oklahoma Democratic primary?Kamala Harris.csv [-4.264120184082122e-15, 120]\n",
      "Who will be Trump's next Supreme Court nominee?Kevin Newsom.csv Who will win the 2020 Democratic presidential nomination?Bernie Sanders.csv [-0.027001393701731546, 120]\n",
      "Who will win the 2020 Oklahoma Democratic primary?Beto O'Rourke.csv Will Trump resign during his first term?Will Trump resign during his first term?.csv [0.018951632292307986, 120]\n",
      "Who will be Trump's next Supreme Court nominee?Allison Eid.csv Who will win the 2020 Democratic presidential nomination?Pete Buttigieg.csv [-0.009809760150202717, 120]\n",
      "Who will win the 2020 North Carolina Democratic primary?Kamala Harris.csv Which party will win the U.S. Senate race in North Carolina in 2020?Republican.csv [-0.011842135783342133, 120]\n",
      "Who will win the 2020 Virginia Democratic primary?Tom Steyer.csv Who will win the 2020 Alabama Democratic primary?Joe Biden.csv [-0.003746882986514998, 120]\n",
      "Who will be 2nd in the 2020 New Hampshire Democratic primary?Cory Booker.csv Who will win the 2020 Virginia Democratic primary?Tom Steyer.csv [-4.264120184082122e-15, 120]\n",
      "Who will win the 2020 Colorado Democratic primary?Julián Castro.csv Who will win the 2020 Rhode Island Democratic primary?Hillary Clinton.csv [-0.060362594733108954, 120]\n",
      "Who will win the 2020 Arizona Democratic primary?Andrew Yang.csv Who will win the 2020 Idaho Democratic primary?Joe Biden.csv [-0.002421219618130072, 120]\n",
      "Who will be Puerto Rico governor on Dec. 31?L.S. Rodríguez.csv Will Corey Lewandowski file to run for Senate by year-end?Will Corey Lewandowski file to run for Senate by year-end?.csv [-0.09998853791344468, 120]\n",
      "Which party will win the U.S. Senate election in Colorado in 2020?Republican.csv Who will win the 2020 Wisconsin Democratic primary?Bernie Sanders.csv [-0.09752446895392707, 120]\n",
      "Who will win the 2020 Missouri Democratic primary?Julián Castro.csv Who will win the 2020 Democratic presidential nomination?Jay Inslee.csv [-4.264120184082122e-15, 120]\n",
      "Who will win the 2020 Democratic presidential nomination?Bill de Blasio.csv Which party will win Georgia in the 2020 presidential election?Democratic.csv [-0.0029736141043323907, 120]\n",
      "Will Ted Cruz run for president in 2020?Will Ted Cruz run for president in 2020?.csv Which party will win Iowa in the 2020 presidential election?Republican.csv [-0.07092096667799153, 120]\n",
      "Who will be Trump's next Supreme Court nominee?Timothy Tymkovich.csv Who will win the 2020 California Democratic primary?Bernie Sanders.csv [-0.01686262979497171, 120]\n",
      "Who will win the 2020 Delaware Democratic primary?Tom Steyer.csv Will Mike Pence be the 2020 Republican nominee for vice president?Will Mike Pence be the 2020 Republican nominee for vice president?.csv [-0.001558511638004601, 120]\n",
      "Who will be Trump's next Supreme Court nominee?Federico Moreno.csv Who will win the 2020 Oklahoma Democratic primary?Bernie Sanders.csv [0.04260994046696811, 120]\n",
      "Who will win the 2020 Idaho Democratic primary?Beto O'Rourke.csv Who will be 2nd in the 2020 New Hampshire Democratic primary?Bernie Sanders.csv [0.0008653416842813998, 120]\n",
      "Who will be prime minister of Italy on December 31?Elisabetta Belloni.csv Who will win the 2020 Idaho Democratic primary?Beto O'Rourke.csv [-4.264120184082122e-15, 120]\n",
      "Will Michael Avenatti run for president in 2020?Will Michael Avenatti run for president in 2020?.csv Who will win the 2020 Minnesota Democratic primary?Joe Biden.csv [0.017275196759604206, 120]\n",
      "Who will win the 2020 Virginia Democratic primary?Beto O'Rourke.csv Who will win the 2020 Maryland Democratic primary?Elizabeth Warren.csv [0.050682240105667645, 120]\n",
      "Who will win the 2020 Connecticut Democratic primary?Tom Steyer.csv Who will win the 2020 Democratic vice presidential nomination?Kamala Harris.csv [-0.05856021513463185, 120]\n",
      "Who will win the 2020 Massachusetts Democratic primary?Tulsi Gabbard.csv Who will win the 2020 Georgia Democratic primary?Pete Buttigieg.csv [-0.07865486512624022, 120]\n",
      "Who will win the 2020 Democratic presidential nomination?Dwayne Johnson.csv Who will win the 2020 Pennsylvania Democratic primary?Joe Biden.csv [-0.0035140058534944875, 120]\n",
      "Who will win the 2020 Illinois Democratic primary?Julián Castro.csv Will Eric Holder run for president in 2020?Will Eric Holder run for president in 2020?.csv [0.03633310804614373, 120]\n",
      "Who will win the 2020 U.S. presidential election?Sherrod Brown.csv Who will be 2nd in the 2020 South Carolina Democratic primary?Elizabeth Warren.csv [0.02960728440495479, 120]\n",
      "Who will win the 2020 Tennessee Democratic primary?Cory Booker.csv Who will win the 2020 U.S. presidential election?Sherrod Brown.csv [-4.264120184082122e-15, 120]\n",
      "Who will be Trump's next Supreme Court nominee?Lindsey Graham.csv Who will win the 2020 Virginia Democratic primary?Pete Buttigieg.csv [0.02857723570156171, 120]\n",
      "Who will win the 2020 Republican presidential nomination?Tom Cotton.csv Who will win the 2020 Alabama Republican Senate primary?Jeff Sessions.csv [-0.0028860682089831536, 120]\n",
      "Who will be prime minister of Italy on December 31?Paola Severino.csv Which party will win the 2020 U.S. presidential election?Libertarian.csv [1.776716743367551e-16, 120]\n",
      "Who will win the 2020 Vermont Democratic primary?Beto O'Rourke.csv Who will win the 2020 Minnesota Democratic primary?Julián Castro.csv [-4.264120184082122e-15, 120]\n",
      "Who will win the 2020 Illinois Democratic primary?Beto O'Rourke.csv Which party will win Pennsylvania in the 2020 presidential election?Democratic.csv [0.0013633432169884736, 120]\n",
      "Who will win the 2020 Democratic presidential nomination?Mark Zuckerberg.csv Who will win the 2020 Democratic presidential nomination?Jerry Brown.csv [-4.264120184082122e-15, 120]\n",
      "Who will win the 2020 Democratic vice presidential nomination?Joe Biden.csv Who will win the 2020 Democratic presidential nomination?Mark Zuckerberg.csv [-8.528240368164244e-15, 120]\n",
      "Which party will win Minnesota in the 2020 presidential election?Democratic.csv Who will win the 2020 Ohio Democratic primary?Pete Buttigieg.csv [-0.037747543683539136, 120]\n",
      "Will the 2020 NV Democratic caucuses winner win the nomination?Will the 2020 NV Democratic caucuses winner win the nomination?.csv Will Steve King be re-elected to the House from IA's 4th district?Will Steve King be re-elected to the House from IA's 4th district?.csv [0.07348144457894133, 120]\n",
      "Who will win the 2020 South Carolina Democratic primary?Bernie Sanders.csv Who will win the 2020 Georgia Democratic primary?Joe Biden.csv [0.07659031634571013, 120]\n",
      "Who will be the next justice to leave the Supreme Court?Ruth Bader Ginsburg.csv Will a federal charge against Rudy Giuliani be confirmed by Dec. 31, 2020?Will a federal charge against Rudy Giuliani be confirmed by Dec. 31, 2020?.csv [0.02156135411593188, 120]\n",
      "Who will be the next Senate-confirmed DNI?Joseph Maguire.csv Who will be the next justice to leave the Supreme Court?Ruth Bader Ginsburg.csv [-0.006303906213829674, 120]\n",
      "Who will win the 2020 Washington Democratic primary?Beto O'Rourke.csv Who will be the next Senate-confirmed DNI?Joseph Maguire.csv [-0.0004372799376479164, 120]\n",
      "Who will win the 2020 California Democratic primary?Beto O'Rourke.csv Who will win the 2020 Alaska Democratic primary?Elizabeth Warren.csv [0.022986913880719495, 120]\n",
      "Who will win the 2020 Iowa Democratic caucuses?Tom Steyer.csv Which party will win the U.S. Senate election in Colorado in 2020?Democratic.csv [-0.0006406915132490574, 120]\n",
      "Who will win the 2020 Massachusetts Democratic primary?Kamala Harris.csv Which party will win Georgia in the 2020 presidential election?Republican.csv [0.0004731747415915085, 120]\n",
      "Who will be 2nd in the 2020 South Carolina Democratic primary?Amy Klobuchar.csv Will the 2020 IA Democratic caucus winner win the nomination?Will the 2020 IA Democratic caucus winner win the nomination?.csv [0.053600855888124826, 120]\n",
      "Who will win the 2020 Democratic presidential nomination?Andrew Cuomo.csv Who will win the 2020 New York Democratic primary?Pete Buttigieg.csv [0.011161106242484613, 120]\n",
      "Who will win the 2020 North Carolina Democratic primary?Cory Booker.csv Who will win the 2020 Democratic presidential nomination?Andrew Cuomo.csv [-4.264120184082122e-15, 120]\n",
      "Who will win the 2020 Tennessee Democratic primary?Tom Steyer.csv Which party will win the U.S. Senate race in Kansas in 2020?Democratic.csv [-0.010335001114990758, 120]\n",
      "Who will win the 2020 New Hampshire Democratic primary?Cory Booker.csv Will Joe Scarborough run for president in 2020?Will Joe Scarborough run for president in 2020?.csv [0.012640947242968796, 120]\n",
      "Who will win the 2020 Colorado Democratic primary?Andrew Yang.csv Which party will win Ohio in the 2020 presidential election?Democratic.csv [-0.013505066166958558, 120]\n",
      "Who will win the 2020 Maryland Democratic primary?Julián Castro.csv Who will win the 2020 Colorado Democratic primary?Andrew Yang.csv [0.05175470228982858, 120]\n",
      "Who will win the 2020 Democratic presidential nomination?Cory Booker.csv Who will win the 2020 Maine Democratic primary?Elizabeth Warren.csv [0.020865102480420755, 120]\n",
      "Who will win the 2020 Maryland Democratic primary?Andrew Yang.csv Who will win the 2020 Alaska Democratic primary?Julián Castro.csv [0.057712356013895016, 120]\n",
      "Who will win the 2020 North Carolina Democratic primary?Tom Steyer.csv Who will win the 2020 Hawaii Democratic primary?Julián Castro.csv [-4.264120184082122e-15, 120]\n",
      "Who will win the 2020 Tennessee Democratic primary?Beto O'Rourke.csv Who will be 2nd in the 2020 New Hampshire Democratic primary?Tulsi Gabbard.csv [0.003200228114415454, 120]\n",
      "Who will win the 2020 Florida Democratic primary?Julián Castro.csv Who will win the 2020 Tennessee Democratic primary?Beto O'Rourke.csv [-4.264120184082122e-15, 120]\n",
      "Who will win the 2020 Pennsylvania Democratic primary?Julián Castro.csv Who will win the 2020 Arkansas Democratic primary?Tom Steyer.csv [-4.264120184082122e-15, 120]\n",
      "Who will win the 2020 Arizona Democratic primary?Beto O'Rourke.csv Who will win the 2020 Minnesota Democratic primary?Pete Buttigieg.csv [-0.01081072790798957, 120]\n",
      "Will Mark Cuban run for president in 2020?Will Mark Cuban run for president in 2020?.csv Will the 2020 TX Democratic primary winner win the nomination?Will the 2020 TX Democratic primary winner win the nomination?.csv [-0.0023354264522641266, 120]\n",
      "Who will lead RCP polling for Dem presidential nomination on Dec. 31?Kamala Harris.csv Who will win the 2020 Illinois Democratic primary?Joe Biden.csv [-4.924085387669607e-05, 120]\n",
      "Who will win the 2020 Connecticut Democratic primary?Cory Booker.csv Who will win the 2020 Virginia Democratic primary?Andrew Yang.csv [-0.0361703885082146, 120]\n",
      "Will the 2020 MA Democratic primary winner win the presidency?Will the 2020 MA Democratic primary winner win the presidency?.csv Who will be the next justice to leave the Supreme Court?Clarence Thomas.csv [-0.07373042272410785, 120]\n",
      "Who will win the 2020 Virginia Democratic primary?Julián Castro.csv Who will win the 2020 Missouri Democratic primary?Hillary Clinton.csv [0.06677445864080007, 120]\n",
      "Who will win the 2020 Florida Democratic primary?Beto O'Rourke.csv Who will win the 2020 Maryland Democratic primary?Bernie Sanders.csv [-0.02523644699067928, 120]\n",
      "Who will win the 2020 Mississippi Democratic primary?Andrew Yang.csv Who will win the 2020 Alaska Democratic primary?Bernie Sanders.csv [-0.014011954562328472, 120]\n",
      "Who will win the 2020 New York Democratic primary?Amy Klobuchar.csv Which party will win Colorado in the 2020 presidential election?Republican.csv [0.06274629192864999, 120]\n",
      "Who will be the prime minister of Spain following the 2019 election?Pablo Iglesias.csv Will the 2020 TX Democratic primary winner win the presidency?Will the 2020 TX Democratic primary winner win the presidency?.csv [0.005844690804517436, 120]\n",
      "Who will win the 2020 Louisiana Democratic primary?Tom Steyer.csv Who will win the 2020 Delaware Democratic primary?Michael Bennet.csv [-4.264120184082122e-15, 120]\n",
      "Who will be the next justice to leave the Supreme Court?Neil Gorsuch.csv Who will win the 2020 Louisiana Democratic primary?Tom Steyer.csv [-0.02079600650779218, 120]\n",
      "Who will win the 2020 Democratic presidential nomination?Chris Murphy.csv Who will be 2nd in the 2020 South Carolina Democratic primary?Pete Buttigieg.csv [-0.011094287628439548, 120]\n",
      "Who will win the 2020 Rhode Island Democratic primary?Julián Castro.csv Who will win the 2020 U.S. presidential election?Pete Buttigieg.csv [0.03266323752266027, 120]\n",
      "Who will win the 2020 Alaska Democratic primary?Andrew Yang.csv Who will win the 2020 Maryland Democratic primary?Pete Buttigieg.csv [-0.05235356160652576, 120]\n",
      "Who will be Trump's next Supreme Court nominee?Patrick Wyrick.csv Who will win the 2020 Alaska Democratic primary?Andrew Yang.csv [0.038706855585360876, 120]\n",
      "Who will win the 2020 Colorado Democratic primary?Beto O'Rourke.csv Who will be Trump's next Supreme Court nominee?Patrick Wyrick.csv [-4.264120184082122e-15, 120]\n",
      "Who will win the 2020 Nevada Democratic caucuses?Beto O'Rourke.csv Who will win the 2020 Rhode Island Democratic primary?Joe Biden.csv [-0.004034438096921937, 120]\n",
      "Who will win the 2020 Florida Democratic primary?Kamala Harris.csv Who will win the 2020 Illinois Democratic primary?Elizabeth Warren.csv [0.03927065864315366, 120]\n",
      "Who will win the 2020 Louisiana Democratic primary?Pete Buttigieg.csv Who will win the 2020 Alaska Democratic primary?Joe Biden.csv [0.040604133679555544, 120]\n",
      "Who will win the 2020 Ohio Democratic primary?Kamala Harris.csv Who will win the 2020 Louisiana Democratic primary?Pete Buttigieg.csv [0.01214700466135715, 120]\n",
      "Who will win the 2020 Wisconsin Democratic primary?Kamala Harris.csv Will Donald Trump be the 2020 Republican nominee for president?Will Donald Trump be the 2020 Republican nominee for president?.csv [-0.0009397622515447849, 120]\n",
      "Who will win the 2020 Minnesota Democratic primary?Beto O'Rourke.csv Who will win the 2020 Pennsylvania Democratic primary?Hillary Clinton.csv [-0.03486831458175229, 120]\n",
      "Who will win the 2020 Oklahoma Democratic primary?Cory Booker.csv Who will win the 2020 Minnesota Democratic primary?Beto O'Rourke.csv [-4.264120184082122e-15, 120]\n",
      "Who will win the 2020 Arizona Democratic primary?Kamala Harris.csv Who will win the 2020 North Carolina Democratic primary?Bernie Sanders.csv [-0.06482751886936274, 120]\n",
      "Who will win the 2020 New York Democratic primary?Julián Castro.csv Who will be 2nd in the 2020 New Hampshire Democratic primary?Andrew Yang.csv [0.05130826108567556, 120]\n",
      "Who will win the 2020 Democratic presidential nomination?Tim Kaine.csv Who will win the 2020 Maine Democratic primary?Pete Buttigieg.csv [0.021026216139376417, 120]\n",
      "Who will win the 2020 Arizona Democratic primary?Cory Booker.csv Who will win the 2020 Alabama Democratic primary?Cory Booker.csv [-4.264120184082122e-15, 120]\n",
      "Who will win the 2020 Iowa Democratic caucuses?Hillary Clinton.csv Who will win the 2020 Minnesota Democratic primary?Amy Klobuchar.csv [-0.00789824015114292, 120]\n",
      "Who will be Trump's next Supreme Court nominee?William Pryor.csv Who will win the 2020 Iowa Democratic caucuses?Hillary Clinton.csv [0.033423967172968305, 120]\n",
      "Who will win the 2020 Pennsylvania Democratic primary?Kamala Harris.csv Who will win the 2020 Democratic presidential nomination?Elizabeth Warren.csv [0.030238312559489847, 120]\n",
      "Who will win the 2020 Minnesota Democratic primary?Tulsi Gabbard.csv Will Trump's next Supreme Court nominee be a woman?Will Trump's next Supreme Court nominee be a woman?.csv [-0.04463764158686875, 120]\n",
      "Will Obama endorse Biden by Dec. 31, according to 538?Will Obama endorse Biden by Dec. 31, according to 538?.csv Will the 2020 Republican nominee for vice president be a woman?Will the 2020 Republican nominee for vice president be a woman?.csv [-0.09998517055957672, 120]\n",
      "Who will win the 2020 Democratic presidential nomination?Sherrod Brown.csv Who will win the 2020 Hawaii Democratic primary?Cory Booker.csv [-4.264120184082122e-15, 120]\n",
      "Who will be Trump's next Supreme Court nominee?Raymond Gruender.csv Who will win the 2020 Alaska Democratic primary?Kamala Harris.csv [0.03206173216650776, 120]\n",
      "Who will win the 2020 Democratic presidential nomination?Oprah Winfrey.csv Who will win the 2020 New Hampshire Democratic primary?Bernie Sanders.csv [-0.00539832628618855, 120]\n",
      "Who will win the 2020 Republican presidential nomination?John Kasich.csv Who will win the 2020 Virginia Democratic primary?Elizabeth Warren.csv [0.0692614743024368, 120]\n",
      "Who will be prime minister of Italy on December 31?Marta Cartabia.csv Who will win the 2020 Rhode Island Democratic primary?Michael Bennet.csv [-4.264120184082122e-15, 120]\n",
      "Who will win the 2020 Oklahoma Democratic primary?Julián Castro.csv Who will win the 2020 New Hampshire Democratic primary?Elizabeth Warren.csv [0.04125329245518605, 120]\n",
      "Who will win the 2020 Rhode Island Democratic primary?Amy Klobuchar.csv Who will win the 2020 New York Democratic primary?Joe Biden.csv [-0.017595808614836655, 120]\n",
      "Will the Senate confirm John Ratcliffe as DNI in 2019?Will the Senate confirm John Ratcliffe as DNI in 2019?.csv Will Alexandria Ocasio-Cortez win the Democratic primary for NY's 14th District?Will Alexandria Ocasio-Cortez win the Democratic primary for NY's 14th District?.csv [-0.008215635532581953, 120]\n",
      "Who will win the 2020 Rhode Island Democratic primary?Andrew Yang.csv Who will win the 2020 Massachusetts Democratic primary?Kirsten Gillibrand.csv [-0.021767141047159096, 120]\n",
      "Who will win the 2020 U.S. presidential election?Kirsten Gillibrand.csv Who will win the 2020 Rhode Island Democratic primary?Andrew Yang.csv [-0.008607107360491967, 120]\n",
      "Who will win the 2020 Georgia Democratic primary?Cory Booker.csv Who will win the 2020 Michigan Democratic primary?Elizabeth Warren.csv [0.03942153220362453, 120]\n",
      "Who will win the 2020 Arizona Democratic primary?Tulsi Gabbard.csv Who will win the 2020 Oklahoma Democratic primary?Elizabeth Warren.csv [-0.008213253428631988, 120]\n",
      "Who will win the 2020 Georgia Democratic primary?Julián Castro.csv Who will win the 2020 Utah Democratic primary?Bernie Sanders.csv [-0.012688329421636618, 120]\n",
      "Who will win the 2020 Alabama Democratic primary?Kamala Harris.csv Who will win the 2020 Connecticut Democratic primary?Pete Buttigieg.csv [-0.026790989166175897, 120]\n",
      "Who will be Trump's next Supreme Court nominee?David Stras.csv Which party will win Wisconsin in the 2020 presidential election?Democratic.csv [0.002671206438627817, 120]\n",
      "Who will win the 2020 Democratic vice presidential nomination?Pete Buttigieg.csv Who will win the 2020 New Hampshire Democratic primary?Pete Buttigieg.csv [-0.032636003883928996, 120]\n",
      "Who will win the 2020 Arkansas Democratic primary?Kamala Harris.csv Who will win the 2020 Arizona Democratic primary?Tom Steyer.csv [-0.0484007523607103, 120]\n",
      "Who will win the 2020 Washington Democratic primary?Julián Castro.csv Who will win the 2020 Mississippi Democratic primary?Amy Klobuchar.csv [-0.06029218203061766, 120]\n",
      "Who will be Trump's next Supreme Court nominee?Keith Blackwell.csv Who will win the 2020 Washington Democratic primary?Julián Castro.csv [-4.264120184082122e-15, 120]\n",
      "Who will win the 2020 Hawaii Democratic primary?Michael Bennet.csv Who will be Trump's next Supreme Court nominee?Keith Blackwell.csv [-4.264120184082122e-15, 120]\n",
      "Who will be Puerto Rico governor on Dec. 31?Ramón Luis Rivera.csv Who will win the 2020 Colorado Democratic primary?Tom Steyer.csv [-4.264120184082122e-15, 120]\n",
      "Who will win the 2020 New Hampshire Democratic primary?Hillary Clinton.csv Who will win the 2020 Vermont Democratic primary?Bernie Sanders.csv [-0.021566077855554564, 120]\n",
      "Who will win the 2020 South Carolina Democratic primary?Beto O'Rourke.csv Who will win the 2020 Wisconsin Democratic primary?Cory Booker.csv [-4.264120184082122e-15, 120]\n",
      "Who will win the 2020 Pennsylvania Democratic primary?Michael Bennet.csv Who will win the 2020 South Carolina Democratic primary?Beto O'Rourke.csv [-4.264120184082122e-15, 120]\n",
      "Who will win the 2020 North Carolina Democratic primary?Andrew Yang.csv Who will win the 2020 Massachusetts Democratic Senate primary?Ed Markey.csv [-0.0216014852951911, 120]\n",
      "Who will win the 2020 Florida Democratic primary?Elizabeth Warren.csv Will Adam Schiff be House Intelligence Committee chairman on Dec. 31, 2019?Will Adam Schiff be House Intelligence Committee chairman on Dec. 31, 2019?.csv [-0.08724681901696185, 120]\n",
      "Who will win the 2020 Democratic presidential nomination?Eric Swalwell.csv Will Donald Trump win the popular vote in 2020?Will Donald Trump win the popular vote in 2020?.csv [-0.012012591424213067, 120]\n"
     ]
    }
   ],
   "source": [
    "for x in np.arange(len(wow[0])):\n",
    "    if wow[0][x][2] != []:\n",
    "        print(wow[0][x][0], wow[0][x][1],wow[0][x][2][0])\n",
    "    else:\n",
    "        None"
   ]
  },
  {
   "cell_type": "code",
   "execution_count": 21,
   "metadata": {},
   "outputs": [
    {
     "data": {
      "text/plain": [
       "['Who will win the 2020 Nevada Democratic caucuses?Hillary Clinton.csv',\n",
       " 'Who will win the 2020 Democratic presidential nomination?Eric Swalwell.csv',\n",
       " [],\n",
       " 0.1428520104013957]"
      ]
     },
     "execution_count": 21,
     "metadata": {},
     "output_type": "execute_result"
    }
   ],
   "source": []
  },
  {
   "cell_type": "code",
   "execution_count": null,
   "metadata": {},
   "outputs": [],
   "source": []
  },
  {
   "cell_type": "code",
   "execution_count": null,
   "metadata": {},
   "outputs": [],
   "source": []
  }
 ],
 "metadata": {
  "kernelspec": {
   "display_name": "Python 3",
   "language": "python",
   "name": "python3"
  },
  "language_info": {
   "codemirror_mode": {
    "name": "ipython",
    "version": 3
   },
   "file_extension": ".py",
   "mimetype": "text/x-python",
   "name": "python",
   "nbconvert_exporter": "python",
   "pygments_lexer": "ipython3",
   "version": "3.7.3"
  }
 },
 "nbformat": 4,
 "nbformat_minor": 2
}
