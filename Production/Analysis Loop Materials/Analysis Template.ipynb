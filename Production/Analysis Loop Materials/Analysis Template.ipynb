{
 "cells": [
  {
   "cell_type": "code",
   "execution_count": 1,
   "metadata": {},
   "outputs": [],
   "source": [
    "import Analysis as an"
   ]
  },
  {
   "cell_type": "code",
   "execution_count": 2,
   "metadata": {},
   "outputs": [],
   "source": [
    "contractJ1sql = \"'Joe Biden'\"\n",
    "contractJ2sql = \"'Joe Biden'\"\n",
    "marketJ2sql = \"'Who will win the 2020 Democratic presidential nomination?'\"\n",
    "marketJ1sql = \"'Who will win the 2020 U.S. presidential election?'\"\n",
    "contractJ1 = 'Joe Biden'\n",
    "contractJ2 = 'Joe Biden'\n",
    "marketJ2 = 'Who will win the 2020 Democratic presidential nomination?'\n",
    "marketJ1 = 'Who will win the 2020 U.S. presidential election?'\n",
    "csvfilenow = 'BidenAnalysis.csv' \n",
    "csvhist = 'biden.csv'\n",
    "buyaggros = 0.3\n",
    "sellaggros = 0.3\n",
    "zztop = 1\n",
    "s1name = 'Joe Biden for President 2020'\n",
    "s2name = 'Joe Biden for Democratic Nomination 2020'"
   ]
  },
  {
   "cell_type": "code",
   "execution_count": null,
   "metadata": {},
   "outputs": [
    {
     "name": "stdout",
     "output_type": "stream",
     "text": [
      "0\n"
     ]
    }
   ],
   "source": [
    "an.analysis_loop(csvhist, csvfilenow, marketJ1sql, marketJ2sql,contractJ1sql, \n",
    "              contractJ2sql, marketJ1, marketJ2, contractJ1, contractJ2,\n",
    "                buyaggros, sellaggros, zztop, s1name, s2name)"
   ]
  },
  {
   "cell_type": "code",
   "execution_count": 4,
   "metadata": {},
   "outputs": [],
   "source": []
  }
 ],
 "metadata": {
  "kernelspec": {
   "display_name": "Python 3",
   "language": "python",
   "name": "python3"
  },
  "language_info": {
   "codemirror_mode": {
    "name": "ipython",
    "version": 3
   },
   "file_extension": ".py",
   "mimetype": "text/x-python",
   "name": "python",
   "nbconvert_exporter": "python",
   "pygments_lexer": "ipython3",
   "version": "3.7.3"
  }
 },
 "nbformat": 4,
 "nbformat_minor": 2
}
